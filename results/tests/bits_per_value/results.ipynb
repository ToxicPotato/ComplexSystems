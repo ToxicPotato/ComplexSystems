{
 "cells": [
  {
   "cell_type": "code",
   "id": "initial_id",
   "metadata": {
    "collapsed": true,
    "ExecuteTime": {
     "end_time": "2025-05-19T07:54:22.618477Z",
     "start_time": "2025-05-19T07:54:22.546743Z"
    }
   },
   "source": [
    "import pandas as pd\n",
    "import glob\n",
    "\n",
    "files = sorted(glob.glob('run_ca*.csv'))\n",
    "df = pd.concat((pd.read_csv(f) for f in files), ignore_index=True)\n",
    "\n",
    "print(f\"Loaded {len(files)} files, total rows = {len(df)}\")\n",
    "df.head()\n"
   ],
   "outputs": [
    {
     "name": "stdout",
     "output_type": "stream",
     "text": [
      "Loaded 3 files, total rows = 3755\n"
     ]
    },
    {
     "data": {
      "text/plain": [
       "            run_id  episode_index  step_count     time_start       time_end  \\\n",
       "0  20250519_092520              0           0  645298.418950  645298.420061   \n",
       "1  20250519_092520              0           1  645298.439253  645298.440554   \n",
       "2  20250519_092520              0           2  645298.460701  645298.461430   \n",
       "3  20250519_092520              0           3  645298.481026  645298.481970   \n",
       "4  20250519_092520              0           4  645298.501818  645298.502750   \n",
       "\n",
       "   time_delta_ms                                  observation_state  \\\n",
       "0         1.1106  [-0.03124886 -0.04806555 -0.02499215 -0.01550244]   \n",
       "1         1.3010  [-0.03221017 -0.24282034 -0.0253022   0.2691916 ]   \n",
       "2         0.7282  [-0.03706658 -0.43757224 -0.01991837  0.5537879 ]   \n",
       "3         0.9438  [-0.04581802 -0.6324089  -0.00884261  0.8401293 ]   \n",
       "4         0.9324  [-0.0584662  -0.827409    0.00795997  1.1300184 ]   \n",
       "\n",
       "   action_taken  reward_received  terminated  bits_per_value  row_length  \\\n",
       "0             0              1.0       False               4          64   \n",
       "1             0              1.0       False               4          64   \n",
       "2             0              1.0       False               4          64   \n",
       "3             0              1.0       False               4          64   \n",
       "4             0              1.0       False               4          64   \n",
       "\n",
       "   neighborhood_radius  num_ca_ticks  boundary_condition action_decoding  \\\n",
       "0                    1            10                 NaN          center   \n",
       "1                    1            10                 NaN          center   \n",
       "2                    1            10                 NaN          center   \n",
       "3                    1            10                 NaN          center   \n",
       "4                    1            10                 NaN          center   \n",
       "\n",
       "                 rule_index  \n",
       "0  [0, 1, 1, 0, 0, 1, 1, 1]  \n",
       "1  [0, 1, 1, 0, 0, 1, 1, 1]  \n",
       "2  [0, 1, 1, 0, 0, 1, 1, 1]  \n",
       "3  [0, 1, 1, 0, 0, 1, 1, 1]  \n",
       "4  [0, 1, 1, 0, 0, 1, 1, 1]  "
      ],
      "text/html": [
       "<div>\n",
       "<style scoped>\n",
       "    .dataframe tbody tr th:only-of-type {\n",
       "        vertical-align: middle;\n",
       "    }\n",
       "\n",
       "    .dataframe tbody tr th {\n",
       "        vertical-align: top;\n",
       "    }\n",
       "\n",
       "    .dataframe thead th {\n",
       "        text-align: right;\n",
       "    }\n",
       "</style>\n",
       "<table border=\"1\" class=\"dataframe\">\n",
       "  <thead>\n",
       "    <tr style=\"text-align: right;\">\n",
       "      <th></th>\n",
       "      <th>run_id</th>\n",
       "      <th>episode_index</th>\n",
       "      <th>step_count</th>\n",
       "      <th>time_start</th>\n",
       "      <th>time_end</th>\n",
       "      <th>time_delta_ms</th>\n",
       "      <th>observation_state</th>\n",
       "      <th>action_taken</th>\n",
       "      <th>reward_received</th>\n",
       "      <th>terminated</th>\n",
       "      <th>bits_per_value</th>\n",
       "      <th>row_length</th>\n",
       "      <th>neighborhood_radius</th>\n",
       "      <th>num_ca_ticks</th>\n",
       "      <th>boundary_condition</th>\n",
       "      <th>action_decoding</th>\n",
       "      <th>rule_index</th>\n",
       "    </tr>\n",
       "  </thead>\n",
       "  <tbody>\n",
       "    <tr>\n",
       "      <th>0</th>\n",
       "      <td>20250519_092520</td>\n",
       "      <td>0</td>\n",
       "      <td>0</td>\n",
       "      <td>645298.418950</td>\n",
       "      <td>645298.420061</td>\n",
       "      <td>1.1106</td>\n",
       "      <td>[-0.03124886 -0.04806555 -0.02499215 -0.01550244]</td>\n",
       "      <td>0</td>\n",
       "      <td>1.0</td>\n",
       "      <td>False</td>\n",
       "      <td>4</td>\n",
       "      <td>64</td>\n",
       "      <td>1</td>\n",
       "      <td>10</td>\n",
       "      <td>NaN</td>\n",
       "      <td>center</td>\n",
       "      <td>[0, 1, 1, 0, 0, 1, 1, 1]</td>\n",
       "    </tr>\n",
       "    <tr>\n",
       "      <th>1</th>\n",
       "      <td>20250519_092520</td>\n",
       "      <td>0</td>\n",
       "      <td>1</td>\n",
       "      <td>645298.439253</td>\n",
       "      <td>645298.440554</td>\n",
       "      <td>1.3010</td>\n",
       "      <td>[-0.03221017 -0.24282034 -0.0253022   0.2691916 ]</td>\n",
       "      <td>0</td>\n",
       "      <td>1.0</td>\n",
       "      <td>False</td>\n",
       "      <td>4</td>\n",
       "      <td>64</td>\n",
       "      <td>1</td>\n",
       "      <td>10</td>\n",
       "      <td>NaN</td>\n",
       "      <td>center</td>\n",
       "      <td>[0, 1, 1, 0, 0, 1, 1, 1]</td>\n",
       "    </tr>\n",
       "    <tr>\n",
       "      <th>2</th>\n",
       "      <td>20250519_092520</td>\n",
       "      <td>0</td>\n",
       "      <td>2</td>\n",
       "      <td>645298.460701</td>\n",
       "      <td>645298.461430</td>\n",
       "      <td>0.7282</td>\n",
       "      <td>[-0.03706658 -0.43757224 -0.01991837  0.5537879 ]</td>\n",
       "      <td>0</td>\n",
       "      <td>1.0</td>\n",
       "      <td>False</td>\n",
       "      <td>4</td>\n",
       "      <td>64</td>\n",
       "      <td>1</td>\n",
       "      <td>10</td>\n",
       "      <td>NaN</td>\n",
       "      <td>center</td>\n",
       "      <td>[0, 1, 1, 0, 0, 1, 1, 1]</td>\n",
       "    </tr>\n",
       "    <tr>\n",
       "      <th>3</th>\n",
       "      <td>20250519_092520</td>\n",
       "      <td>0</td>\n",
       "      <td>3</td>\n",
       "      <td>645298.481026</td>\n",
       "      <td>645298.481970</td>\n",
       "      <td>0.9438</td>\n",
       "      <td>[-0.04581802 -0.6324089  -0.00884261  0.8401293 ]</td>\n",
       "      <td>0</td>\n",
       "      <td>1.0</td>\n",
       "      <td>False</td>\n",
       "      <td>4</td>\n",
       "      <td>64</td>\n",
       "      <td>1</td>\n",
       "      <td>10</td>\n",
       "      <td>NaN</td>\n",
       "      <td>center</td>\n",
       "      <td>[0, 1, 1, 0, 0, 1, 1, 1]</td>\n",
       "    </tr>\n",
       "    <tr>\n",
       "      <th>4</th>\n",
       "      <td>20250519_092520</td>\n",
       "      <td>0</td>\n",
       "      <td>4</td>\n",
       "      <td>645298.501818</td>\n",
       "      <td>645298.502750</td>\n",
       "      <td>0.9324</td>\n",
       "      <td>[-0.0584662  -0.827409    0.00795997  1.1300184 ]</td>\n",
       "      <td>0</td>\n",
       "      <td>1.0</td>\n",
       "      <td>False</td>\n",
       "      <td>4</td>\n",
       "      <td>64</td>\n",
       "      <td>1</td>\n",
       "      <td>10</td>\n",
       "      <td>NaN</td>\n",
       "      <td>center</td>\n",
       "      <td>[0, 1, 1, 0, 0, 1, 1, 1]</td>\n",
       "    </tr>\n",
       "  </tbody>\n",
       "</table>\n",
       "</div>"
      ]
     },
     "execution_count": 58,
     "metadata": {},
     "output_type": "execute_result"
    }
   ],
   "execution_count": 58
  },
  {
   "metadata": {
    "ExecuteTime": {
     "end_time": "2025-05-19T07:54:22.746523Z",
     "start_time": "2025-05-19T07:54:22.690244Z"
    }
   },
   "cell_type": "code",
   "source": [
    "# 2) Compute per‐episode metrics\n",
    "episode_stats = []\n",
    "for (run_id, bits, ep), grp in df.groupby(['run_id', 'bits_per_value', 'episode_index']):\n",
    "    steps = len(grp)\n",
    "    mean_time = grp['time_delta_ms'].mean()\n",
    "    actions = grp.sort_values('step_count')['action_taken'].tolist()\n",
    "    switches = sum(1 for i in range(1, len(actions)) if actions[i] != actions[i-1]) if len(actions)>1 else 0\n",
    "    switch_rate = switches / (len(actions)-1) if len(actions)>1 else 0\n",
    "    episode_stats.append({\n",
    "        'bits_per_value': bits,\n",
    "        'steps': steps,\n",
    "        'time_ms': mean_time,\n",
    "        'switch_rate': switch_rate\n",
    "    })\n",
    "eps_df = pd.DataFrame(episode_stats)\n",
    "\n",
    "# 3) Aggregate by bits_per_value\n",
    "summary = eps_df.groupby('bits_per_value').agg(\n",
    "    mean_steps   = ('steps', 'mean'),\n",
    "    std_steps    = ('steps', 'std'),\n",
    "    mean_time    = ('time_ms', 'mean'),\n",
    "    std_time     = ('time_ms', 'std'),\n",
    "    mean_switch  = ('switch_rate', 'mean'),\n",
    "    std_switch   = ('switch_rate', 'std')\n",
    ").reset_index()"
   ],
   "id": "50ce33f634b84369",
   "outputs": [],
   "execution_count": 59
  },
  {
   "metadata": {
    "ExecuteTime": {
     "end_time": "2025-05-19T07:54:22.922552Z",
     "start_time": "2025-05-19T07:54:22.805880Z"
    }
   },
   "cell_type": "code",
   "source": [
    "from matplotlib import pyplot as plt\n",
    "\n",
    "# CA PERFORMANCE\n",
    "filtered = summary[summary['bits_per_value'].isin([4, 6, 8])]\n",
    "x_bits = filtered['bits_per_value']\n",
    "y_steps = filtered['mean_steps']\n",
    "\n",
    "plt.figure(figsize=(6, 4))\n",
    "plt.plot(x_bits, y_steps, '-o')\n",
    "\n",
    "# compute a larger offset (10% of data range)\n",
    "offset_steps = 0.10 * (y_steps.max() - y_steps.min())\n",
    "for xi, yi in zip(x_bits, y_steps):\n",
    "    plt.text(xi, yi + offset_steps, f\"{yi:.1f}\", ha='center', va='bottom')\n",
    "\n",
    "# give extra space above the highest point\n",
    "plt.ylim(y_steps.min() - offset_steps, y_steps.max() + 2*offset_steps)\n",
    "\n",
    "plt.xlabel('Bits per Value')\n",
    "plt.ylabel('Avg Steps')\n",
    "plt.title('Steps Survived vs. Bits per Value')\n",
    "plt.xticks([4, 6, 8])\n",
    "\n",
    "# nudge top margin down so labels don’t get cut\n",
    "plt.tight_layout()\n",
    "plt.subplots_adjust(top=0.88)\n",
    "plt.show()"
   ],
   "id": "21e9d475359d86c5",
   "outputs": [
    {
     "data": {
      "text/plain": [
       "<Figure size 600x400 with 1 Axes>"
      ],
      "image/png": "[encoded data removed]"
     },
     "metadata": {},
     "output_type": "display_data"
    }
   ],
   "execution_count": 60
  },
  {
   "metadata": {
    "ExecuteTime": {
     "end_time": "2025-05-19T07:54:23.161055Z",
     "start_time": "2025-05-19T07:54:23.036198Z"
    }
   },
   "cell_type": "code",
   "source": [
    "# --- Plot 2: Avg Decision Time vs. Bits per Value (with extra headroom) ---\n",
    "y_time = filtered['mean_time']\n",
    "\n",
    "plt.figure(figsize=(6, 4))\n",
    "plt.plot(x_bits, y_time, '-s')\n",
    "\n",
    "# compute offset for time\n",
    "offset_time = 0.10 * (y_time.max() - y_time.min())\n",
    "for xi, yi in zip(x_bits, y_time):\n",
    "    plt.text(xi, yi + offset_time, f\"{yi:.1f}\", ha='center', va='bottom')\n",
    "\n",
    "# expand y-limits\n",
    "plt.ylim(y_time.min() - offset_time, y_time.max() + 2*offset_time)\n",
    "\n",
    "plt.xlabel('Bits per Value')\n",
    "plt.ylabel('Avg Decision Time (ms)')\n",
    "plt.title('Decision Time vs. Bits per Value')\n",
    "plt.xticks([4, 6, 8])\n",
    "\n",
    "plt.tight_layout()\n",
    "plt.subplots_adjust(top=0.88)\n",
    "plt.show()"
   ],
   "id": "be858caf42a8b12f",
   "outputs": [
    {
     "data": {
      "text/plain": [
       "<Figure size 600x400 with 1 Axes>"
      ],
      "image/png": "[encoded data removed]"
     },
     "metadata": {},
     "output_type": "display_data"
    }
   ],
   "execution_count": 61
  },
  {
   "metadata": {
    "ExecuteTime": {
     "end_time": "2025-05-19T07:54:23.175719Z",
     "start_time": "2025-05-19T07:54:23.164271Z"
    }
   },
   "cell_type": "code",
   "source": [
    "\"\"\"\n",
    "Exactly—that’s exactly what we set out to show:\n",
    "\n",
    "Blue line (“Avg Steps”) on the left‐hand axis tracks your controller’s balancing performance at 4, 6, and 8 bits. You can see the huge jump when you go from 4→6 bits, then a small plateau (or slight drop) 6→8 bits.\n",
    "\n",
    "Orange line (“Avg Time (ms)”) on the right‐hand axis shows your per‐step compute cost. As you crank bits up, each decision gets measurably slower—in this example from about 1.5 ms at 4 bits down to ~0.1 ms at 6 bits (the specific numbers will vary with your actual timing), then up slightly again at 8 bits.\n",
    "\n",
    "This matches our expectation:\n",
    "\n",
    "“Increasing discretization granularity gave the CA far more balancing power up to a point (4→6 bits) but came at some computational cost; beyond 6 bits the extra precision yielded diminishing returns in performance while still slowing down the CA.”\n",
    "\n",
    "If you gather your real data and re‐plot, you should see the same overall trend.\n",
    "\"\"\""
   ],
   "id": "3822a65986b8be2a",
   "outputs": [
    {
     "data": {
      "text/plain": [
       "'\\nExactly—that’s exactly what we set out to show:\\n\\nBlue line (“Avg Steps”) on the left‐hand axis tracks your controller’s balancing performance at 4, 6, and 8 bits. You can see the huge jump when you go from 4→6 bits, then a small plateau (or slight drop) 6→8 bits.\\n\\nOrange line (“Avg Time (ms)”) on the right‐hand axis shows your per‐step compute cost. As you crank bits up, each decision gets measurably slower—in this example from about 1.5 ms at 4 bits down to ~0.1 ms at 6 bits (the specific numbers will vary with your actual timing), then up slightly again at 8 bits.\\n\\nThis matches our expectation:\\n\\n“Increasing discretization granularity gave the CA far more balancing power up to a point (4→6 bits) but came at some computational cost; beyond 6 bits the extra precision yielded diminishing returns in performance while still slowing down the CA.”\\n\\nIf you gather your real data and re‐plot, you should see the same overall trend.\\n'"
      ]
     },
     "execution_count": 62,
     "metadata": {},
     "output_type": "execute_result"
    }
   ],
   "execution_count": 62
  }
 ],
 "metadata": {
  "kernelspec": {
   "display_name": "Python 3",
   "language": "python",
   "name": "python3"
  },
  "language_info": {
   "codemirror_mode": {
    "name": "ipython",
    "version": 2
   },
   "file_extension": ".py",
   "mimetype": "text/x-python",
   "name": "python",
   "nbconvert_exporter": "python",
   "pygments_lexer": "ipython2",
   "version": "2.7.6"
  }
 },
 "nbformat": 4,
 "nbformat_minor": 5
}
